{
 "cells": [
  {
   "cell_type": "markdown",
   "metadata": {},
   "source": [
    "Coding challenge HUK-Coburg\n",
    "\n",
    "Aufgabenstellung: Modellierung der zu erwartenden Schadenhöhe pro Versicherungsnehmer und Jahr anhand der Risikomerkmale der Kunden\n",
    "\n",
    "Ziel: Berechnung eines fairen Versicherungsbeitrags"
   ]
  },
  {
   "cell_type": "code",
   "execution_count": 1,
   "metadata": {},
   "outputs": [],
   "source": [
    "# Benötigte Pakete importieren\n",
    "import pandas as pd\n",
    "import arff\n",
    "import numpy as np\n",
    "import matplotlib.pyplot as plt\n",
    "import sklearn as sc"
   ]
  },
  {
   "cell_type": "code",
   "execution_count": 3,
   "metadata": {},
   "outputs": [],
   "source": [
    "# Daten einlesen und zu pandas Dataframe konvertieren\n",
    "data_path_freq = '../data/freMTPL2freq.arff'\n",
    "data_freq = arff.load(data_path_freq)\n",
    "df_freq = pd.DataFrame(data_freq, columns=[\"IDpol\", \"ClaimNb\", \"Exposure\", \"Area\", \"VehPower\",\n",
    "\"VehAge\",\"DrivAge\", \"BonusMalus\", \"VehBrand\", \"VehGas\", \"Density\", \"Region\"])\n",
    "\n",
    "data_path_sev = '../data/freMTPL2sev.arff'\n",
    "data_sev = arff.load(data_path_sev)\n",
    "df_sev = pd.DataFrame(data_sev, columns=[\"IDpol\", \"ClaimAmount\"])"
   ]
  },
  {
   "cell_type": "code",
   "execution_count": 16,
   "metadata": {},
   "outputs": [
    {
     "name": "stdout",
     "output_type": "stream",
     "text": [
      "Data freq:\n",
      " <bound method NDFrame.describe of             IDpol  ClaimNb  Exposure Area  VehPower  VehAge  DrivAge  \\\n",
      "0             1.0      1.0   0.10000  'D'       5.0     0.0     55.0   \n",
      "1             3.0      1.0   0.77000  'D'       5.0     0.0     55.0   \n",
      "2             5.0      1.0   0.75000  'B'       6.0     2.0     52.0   \n",
      "3            10.0      1.0   0.09000  'B'       7.0     0.0     46.0   \n",
      "4            11.0      1.0   0.84000  'B'       7.0     0.0     46.0   \n",
      "...           ...      ...       ...  ...       ...     ...      ...   \n",
      "678008  6114326.0      0.0   0.00274  'E'       4.0     0.0     54.0   \n",
      "678009  6114327.0      0.0   0.00274  'E'       4.0     0.0     41.0   \n",
      "678010  6114328.0      0.0   0.00274  'D'       6.0     2.0     45.0   \n",
      "678011  6114329.0      0.0   0.00274  'B'       4.0     0.0     60.0   \n",
      "678012  6114330.0      0.0   0.00274  'B'       7.0     6.0     29.0   \n",
      "\n",
      "        BonusMalus VehBrand   VehGas  Density Region  \n",
      "0             50.0    'B12'  Regular   1217.0  'R82'  \n",
      "1             50.0    'B12'  Regular   1217.0  'R82'  \n",
      "2             50.0    'B12'   Diesel     54.0  'R22'  \n",
      "3             50.0    'B12'   Diesel     76.0  'R72'  \n",
      "4             50.0    'B12'   Diesel     76.0  'R72'  \n",
      "...            ...      ...      ...      ...    ...  \n",
      "678008        50.0    'B12'  Regular   3317.0  'R93'  \n",
      "678009        95.0    'B12'  Regular   9850.0  'R11'  \n",
      "678010        50.0    'B12'   Diesel   1323.0  'R82'  \n",
      "678011        50.0    'B12'  Regular     95.0  'R26'  \n",
      "678012        54.0    'B12'   Diesel     65.0  'R72'  \n",
      "\n",
      "[678013 rows x 12 columns]>\n",
      "\n",
      "Data sev:\n",
      " <bound method NDFrame.describe of            IDpol  ClaimAmount\n",
      "0         1552.0       995.20\n",
      "1      1010996.0      1128.12\n",
      "2      4024277.0      1851.11\n",
      "3      4007252.0      1204.00\n",
      "4      4046424.0      1204.00\n",
      "...          ...          ...\n",
      "26634  3254353.0      1200.00\n",
      "26635  3254353.0      1800.00\n",
      "26636  3254353.0      1000.00\n",
      "26637  2222064.0       767.55\n",
      "26638  2254065.0      1500.00\n",
      "\n",
      "[26639 rows x 2 columns]>\n"
     ]
    }
   ],
   "source": [
    "# Datensätze betrachten\n",
    "print(\"Data freq:\\n\", df_freq.describe)\n",
    "print(\"\\nData sev:\\n\", df_sev.describe)"
   ]
  },
  {
   "cell_type": "code",
   "execution_count": 51,
   "metadata": {},
   "outputs": [
    {
     "name": "stdout",
     "output_type": "stream",
     "text": [
      "IDpol\n",
      "2262511    66\n",
      "2282134    36\n",
      "2227533    25\n",
      "2220367    24\n",
      "2277846    23\n",
      "           ..\n",
      "1170241     1\n",
      "1091072     1\n",
      "1049695     1\n",
      "1121141     1\n",
      "2254065     1\n",
      "Name: count, Length: 24950, dtype: int64\n",
      "ClaimAmount\n",
      "1204.00    4792\n",
      "1128.12    3056\n",
      "1172.00    2072\n",
      "1128.00     831\n",
      "602.00      433\n",
      "           ... \n",
      "421.67        1\n",
      "879.16        1\n",
      "2553.59       1\n",
      "315.22        1\n",
      "767.55        1\n",
      "Name: count, Length: 12369, dtype: int64\n"
     ]
    }
   ],
   "source": [
    "# IDs genauer betrachten, da mehrere Einträge pro Vertrag\n",
    "id_counts = df_sev['IDpol'].value_counts()\n",
    "print(id_counts)\n",
    "\n",
    "claim_counts = df_sev['ClaimAmount'].value_counts()\n",
    "print(claim_counts)"
   ]
  },
  {
   "cell_type": "code",
   "execution_count": 32,
   "metadata": {},
   "outputs": [
    {
     "name": "stdout",
     "output_type": "stream",
     "text": [
      "Minimum ID_freq:\n",
      " 1.0\n",
      "Maximum ID_freq:\n",
      " 6114330.0\n",
      "Minimum ID_sev:\n",
      " 139.0\n",
      "Maximum ID_sev:\n",
      " 6113971.0\n",
      "Gemeinsame IDs: 24944\n"
     ]
    }
   ],
   "source": [
    "# IDs genauer betrachten für Merging der Datensätze\n",
    "min_ID_freq = df_freq['IDpol'].min()\n",
    "max_ID_freq = df_freq['IDpol'].max()\n",
    "min_ID_sev = df_sev['IDpol'].min()\n",
    "max_ID_sev = df_sev['IDpol'].max()\n",
    "\n",
    "print(\"Minimum ID_freq:\\n\", min_ID_freq)\n",
    "print(\"Maximum ID_freq:\\n\", max_ID_freq)\n",
    "print(\"Minimum ID_sev:\\n\", min_ID_sev)\n",
    "print(\"Maximum ID_sev:\\n\", max_ID_sev)\n",
    "\n",
    "# Es scheinen nicht die gleichen IDs vorzuliegen. Schnittmenge betrachten:\n",
    "shared_IDs = len(df_freq[df_freq['IDpol'].isin(df_sev['IDpol'])])\n",
    "print(\"Gemeinsame IDs:\", shared_IDs)\n",
    "\n",
    "# 24944 IDs liegen in beiden Datensätzen vor"
   ]
  },
  {
   "cell_type": "code",
   "execution_count": 31,
   "metadata": {},
   "outputs": [],
   "source": [
    "# Mergen der beiden Datensätze anhand der ID\n",
    "df = pd.merge(df_freq, df_sev, on='IDpol', how='inner')"
   ]
  },
  {
   "cell_type": "code",
   "execution_count": 21,
   "metadata": {},
   "outputs": [
    {
     "data": {
      "image/png": "[encoded data removed]",
      "text/plain": [
       "<Figure size 640x480 with 1 Axes>"
      ]
     },
     "metadata": {},
     "output_type": "display_data"
    }
   ],
   "source": [
    "df_freq['BonusMalus'].hist()\n",
    "plt.show()"
   ]
  },
  {
   "cell_type": "code",
   "execution_count": 23,
   "metadata": {},
   "outputs": [
    {
     "name": "stdout",
     "output_type": "stream",
     "text": [
      "IDpol         0\n",
      "ClaimNb       0\n",
      "Exposure      0\n",
      "Area          0\n",
      "VehPower      0\n",
      "VehAge        0\n",
      "DrivAge       0\n",
      "BonusMalus    0\n",
      "VehBrand      0\n",
      "VehGas        0\n",
      "Density       0\n",
      "Region        0\n",
      "dtype: int64\n",
      "IDpol          0\n",
      "ClaimAmount    0\n",
      "dtype: int64\n"
     ]
    }
   ],
   "source": [
    "# Überprüfung auf fehlende Werte\n",
    "print(df_freq.isnull().sum())\n",
    "print(df_sev.isnull().sum())\n",
    "\n",
    "# Ergebnis: In beiden Datensätzen sind keine fehlenden Werte vorhanden"
   ]
  }
 ],
 "metadata": {
  "kernelspec": {
   "display_name": "Python 3 (ipykernel)",
   "language": "python",
   "name": "python3"
  },
  "language_info": {
   "codemirror_mode": {
    "name": "ipython",
    "version": 3
   },
   "file_extension": ".py",
   "mimetype": "text/x-python",
   "name": "python",
   "nbconvert_exporter": "python",
   "pygments_lexer": "ipython3",
   "version": "3.11.5"
  }
 },
 "nbformat": 4,
 "nbformat_minor": 2
}
